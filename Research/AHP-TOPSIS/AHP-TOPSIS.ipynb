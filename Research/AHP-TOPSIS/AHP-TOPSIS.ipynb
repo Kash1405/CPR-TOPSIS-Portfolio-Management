{
 "cells": [
  {
   "cell_type": "code",
   "execution_count": 2,
   "metadata": {},
   "outputs": [],
   "source": [
    "import pandas as pd\n",
    "import numpy as np\n",
    "import scipy as sc"
   ]
  },
  {
   "cell_type": "code",
   "execution_count": 3,
   "metadata": {},
   "outputs": [],
   "source": [
    "# Example data for three stocks\n",
    "data = {\n",
    "    'Stock': ['AAPL', 'GOOG', 'AMZN'],\n",
    "    'Sector': ['Technology', 'Technology', 'Retail'],\n",
    "    'P/E Ratio': [35.24, 30.42, 75.92],\n",
    "    'ROE': [31.2, 18.7, 19.1],\n",
    "    'Debt/Equity': [1.38, 0.02, 0.63]\n",
    "}\n",
    "df = pd.DataFrame(data)\n",
    "df.set_index('Stock', inplace=True)\n"
   ]
  },
  {
   "cell_type": "code",
   "execution_count": 4,
   "metadata": {},
   "outputs": [],
   "source": [
    "# Define the pairwise comparison matrix\n",
    "matrix = np.array([\n",
    "    [1, 4, 2],\n",
    "    [1/4, 1, 1/2],\n",
    "    [1/2, 2, 1]\n",
    "])\n",
    "\n",
    "# Calculate the weights using the eigenvector method\n",
    "w, _ = np.linalg.eig(matrix)\n",
    "weights = w / w.sum()\n",
    "weights = [weights[0], weights[2], weights[1]]\n"
   ]
  },
  {
   "cell_type": "code",
   "execution_count": 5,
   "metadata": {},
   "outputs": [
    {
     "name": "stderr",
     "output_type": "stream",
     "text": [
      "/var/folders/cw/6x2rcbxj5lx1yyn0pzlwnxtc0000gn/T/ipykernel_6287/2656868717.py:2: FutureWarning: Dropping of nuisance columns in DataFrame reductions (with 'numeric_only=None') is deprecated; in a future version this will raise TypeError.  Select only valid columns before calling the reduction.\n",
      "  df_norm = (df - df.mean()) / df.std()\n"
     ]
    }
   ],
   "source": [
    "# Normalize the data\n",
    "df_norm = (df - df.mean()) / df.std()\n"
   ]
  },
  {
   "cell_type": "code",
   "execution_count": 6,
   "metadata": {},
   "outputs": [],
   "source": [
    "# Calculate the ideal positive and negative solutions\n",
    "v_plus = df_norm.max()\n",
    "v_minus = df_norm.min()\n"
   ]
  },
  {
   "cell_type": "code",
   "execution_count": 7,
   "metadata": {},
   "outputs": [],
   "source": [
    "# Calculate the distance to the ideal positive and negative solutions\n",
    "s_plus = np.sqrt(np.sum((df_norm - v_plus)**2, axis=1))\n",
    "s_minus = np.sqrt(np.sum((df_norm - v_minus)**2, axis=1))\n"
   ]
  },
  {
   "cell_type": "code",
   "execution_count": 8,
   "metadata": {},
   "outputs": [],
   "source": [
    "# Calculate the relative closeness\n",
    "r = s_minus / (s_plus + s_minus)\n"
   ]
  },
  {
   "cell_type": "code",
   "execution_count": 9,
   "metadata": {},
   "outputs": [
    {
     "name": "stdout",
     "output_type": "stream",
     "text": [
      "           Sector  P/E Ratio   ROE  Debt/Equity     Score  Rank\n",
      "Stock                                                          \n",
      "AAPL   Technology      35.24  31.2         1.38  0.621120     1\n",
      "AMZN       Retail      75.92  19.1         0.63  0.500176     2\n",
      "GOOG   Technology      30.42  18.7         0.02  0.000000     3\n"
     ]
    }
   ],
   "source": [
    "# Rank the alternatives\n",
    "ranked = pd.DataFrame({'Score': r, 'Rank': rankdata(-r, method='ordinal')})\n",
    "df_ranked = pd.concat([df, ranked], axis=1)\n",
    "df_ranked.sort_values('Rank', inplace=True)\n",
    "\n",
    "print(df_ranked)\n"
   ]
  }
 ],
 "metadata": {
  "kernelspec": {
   "display_name": "base",
   "language": "python",
   "name": "python3"
  },
  "language_info": {
   "codemirror_mode": {
    "name": "ipython",
    "version": 3
   },
   "file_extension": ".py",
   "mimetype": "text/x-python",
   "name": "python",
   "nbconvert_exporter": "python",
   "pygments_lexer": "ipython3",
   "version": "3.9.13"
  },
  "orig_nbformat": 4,
  "vscode": {
   "interpreter": {
    "hash": "40d3a090f54c6569ab1632332b64b2c03c39dcf918b08424e98f38b5ae0af88f"
   }
  }
 },
 "nbformat": 4,
 "nbformat_minor": 2
}
